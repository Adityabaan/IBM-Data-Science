{
 "cells": [
  {
   "cell_type": "markdown",
   "id": "447cbb39-1393-44d8-b75a-0e075bab5fc7",
   "metadata": {},
   "source": [
    "# **Data Science and Ecosystem**"
   ]
  },
  {
   "cell_type": "markdown",
   "id": "efa0373c-4282-4f1c-949e-c67fe52340e0",
   "metadata": {},
   "source": [
    "In this notebook, Data Science Tools and Ecosystem are summarized."
   ]
  },
  {
   "cell_type": "markdown",
   "id": "f3def02b-2cff-4fba-9506-f6f32475a94b",
   "metadata": {},
   "source": [
    "Some of the popular languages that Data Scientists use are:\n",
    "1. Python\n",
    "2. R\n",
    "3. SQL\n",
    "4. C++\n",
    "5. Java etc..;"
   ]
  },
  {
   "cell_type": "markdown",
   "id": "ebc1d522-e4f5-4a95-932c-ecabcc00d175",
   "metadata": {},
   "source": [
    "Some of the commonly used libraries used by Data Scientists are:\n",
    "\n",
    "1. Tensorflow\n",
    "2. NumPy\n",
    "3. SciPy\n",
    "4. Pandas\n",
    "5. Matplotlib\n",
    "6. Keras\n",
    "7. SciKit-Learn\n",
    "8. PyTorch etc..;"
   ]
  },
  {
   "cell_type": "markdown",
   "id": "e904cd82-da23-4929-b37b-fe4a3f71c1c3",
   "metadata": {},
   "source": [
    "|Data Science Tools|\n",
    "|---|\n",
    "|SAS|\n",
    "|Apache Hadoop|\n",
    "|TensorFlow|"
   ]
  },
  {
   "cell_type": "markdown",
   "id": "05937cc8-0958-4a2b-b94a-99c6a4a88fbe",
   "metadata": {},
   "source": [
    "# **Below are a few examples of evaluating arithmetic expressions in Python**"
   ]
  },
  {
   "cell_type": "code",
   "execution_count": 2,
   "id": "36aabe83-0794-46a2-872c-ff08fea8d680",
   "metadata": {},
   "outputs": [
    {
     "data": {
      "text/plain": [
       "17"
      ]
     },
     "execution_count": 2,
     "metadata": {},
     "output_type": "execute_result"
    }
   ],
   "source": [
    "#this is a common arithmetic example to multiply and then add integers\n",
    "(3*4)+5"
   ]
  },
  {
   "cell_type": "code",
   "execution_count": 3,
   "id": "bcd0642a-1419-4752-802e-8f2c11cecee0",
   "metadata": {},
   "outputs": [
    {
     "data": {
      "text/plain": [
       "3.3333333333333335"
      ]
     },
     "execution_count": 3,
     "metadata": {},
     "output_type": "execute_result"
    }
   ],
   "source": [
    "#this will convert 200 minutes to hours by dividing by 60\n",
    "200/60"
   ]
  },
  {
   "cell_type": "markdown",
   "id": "76223f34-a92d-4013-8d4d-0f8780be5223",
   "metadata": {},
   "source": [
    " _**Objective**_\n",
    "* List popular languages for data science\n",
    "* List popular libraries for data science\n",
    "* List of well known data science tools\n",
    "* How to provide comments in the cell"
   ]
  },
  {
   "cell_type": "markdown",
   "id": "3cd37c39-47f1-46b3-b52f-02820f07d2ff",
   "metadata": {},
   "source": [
    "# **Author**\n",
    "Adityabaan Tripathy"
   ]
  },
  {
   "cell_type": "code",
   "execution_count": null,
   "id": "bb6fbe62-68b6-434b-8cdd-3962786c00af",
   "metadata": {},
   "outputs": [],
   "source": []
  }
 ],
 "metadata": {
  "kernelspec": {
   "display_name": "Python 3 (ipykernel)",
   "language": "python",
   "name": "python3"
  },
  "language_info": {
   "codemirror_mode": {
    "name": "ipython",
    "version": 3
   },
   "file_extension": ".py",
   "mimetype": "text/x-python",
   "name": "python",
   "nbconvert_exporter": "python",
   "pygments_lexer": "ipython3",
   "version": "3.12.7"
  }
 },
 "nbformat": 4,
 "nbformat_minor": 5
}
